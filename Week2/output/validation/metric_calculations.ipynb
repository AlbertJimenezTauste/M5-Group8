{
 "cells": [
  {
   "cell_type": "code",
   "execution_count": 13,
   "metadata": {},
   "outputs": [],
   "source": [
    "import numpy as np\n",
    "from matplotlib import pyplot as plt"
   ]
  },
  {
   "cell_type": "code",
   "execution_count": 65,
   "metadata": {},
   "outputs": [
    {
     "data": {
      "image/png": "[encoded data removed]",
      "text/plain": [
       "<Figure size 432x288 with 6 Axes>"
      ]
     },
     "metadata": {
      "needs_background": "light"
     },
     "output_type": "display_data"
    },
    {
     "name": "stdout",
     "output_type": "stream",
     "text": [
      "mAP for car 95.39835454545454\n",
      "mAP for cyclist 61.88466363636363\n",
      "mAP for pedestrian 82.4601090909091\n",
      "mAP for tram 1.7590727272727271\n",
      "mAP for truck 72.24243636363636\n",
      "mAP for van 26.315118181818182\n",
      "Average mAP 56.676625757575756\n"
     ]
    }
   ],
   "source": [
    "files = ['stats_car_detection.txt',\n",
    "         'stats_cyclist_detection.txt',\n",
    "         'stats_pedestrian_detection.txt',\n",
    "         'stats_tram_detection.txt',\n",
    "         'stats_truck_detection.txt',\n",
    "         'stats_van_detection.txt']\n",
    "accs = []\n",
    "f, ((ax1, ax2, ax3), (ax4, ax5, ax6)) = plt.subplots(2, 3, sharey=True, sharex=True)\n",
    "ax = [ax1, ax2, ax3, ax4, ax5, ax6]\n",
    "cnt = 0\n",
    "for val_file in files:\n",
    "    with open(val_file) as f:\n",
    "        content = f.readlines()   \n",
    "    content = [x.strip() for x in content]\n",
    "    for line in content:\n",
    "        values_s = line.split()\n",
    "        values = []\n",
    "        acc = 0\n",
    "        i=0\n",
    "        for v in values_s:\n",
    "            if i%4 == 0:\n",
    "                i=0\n",
    "                values.append(float(v))\n",
    "                acc += float(v)\n",
    "            i += 1\n",
    "        accs.append(acc/11*100)\n",
    "        ax[cnt].plot(values, '.')\n",
    "        ax[cnt].set_title(val_file.split('_')[1])\n",
    "        cnt += 1\n",
    "        break\n",
    "        \n",
    "plt.show() \n",
    "cnt=0\n",
    "for a in accs:\n",
    "    print('mAP for '+ files[cnt].split('_')[1] + ' ' + str(a))\n",
    "    cnt += 1\n",
    "print('Average mAP ' + str(sum(accs)/6))"
   ]
  },
  {
   "cell_type": "code",
   "execution_count": null,
   "metadata": {},
   "outputs": [],
   "source": []
  },
  {
   "cell_type": "code",
   "execution_count": null,
   "metadata": {},
   "outputs": [],
   "source": []
  }
 ],
 "metadata": {
  "kernelspec": {
   "display_name": "Python 3",
   "language": "python",
   "name": "python3"
  },
  "language_info": {
   "codemirror_mode": {
    "name": "ipython",
    "version": 3
   },
   "file_extension": ".py",
   "mimetype": "text/x-python",
   "name": "python",
   "nbconvert_exporter": "python",
   "pygments_lexer": "ipython3",
   "version": "3.7.4"
  }
 },
 "nbformat": 4,
 "nbformat_minor": 2
}
